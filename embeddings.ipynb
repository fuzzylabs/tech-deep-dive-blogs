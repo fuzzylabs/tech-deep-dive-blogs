{
 "cells": [
  {
   "attachments": {},
   "cell_type": "markdown",
   "metadata": {},
   "source": [
    "# Image Embeddings with HuggingFace"
   ]
  },
  {
   "attachments": {},
   "cell_type": "markdown",
   "metadata": {},
   "source": [
    "Python Imports"
   ]
  },
  {
   "cell_type": "code",
   "execution_count": 63,
   "metadata": {},
   "outputs": [],
   "source": [
    "import torch\n",
    "from transformers import AutoImageProcessor, ViTMAEModel, PreTrainedModel\n",
    "from PIL import Image\n",
    "from torchvision.datasets.folder import ImageFolder\n",
    "from datasets import load_dataset, Dataset\n",
    "import requests\n",
    "import glob\n",
    "import os\n",
    "import numpy as np"
   ]
  },
  {
   "attachments": {},
   "cell_type": "markdown",
   "metadata": {},
   "source": [
    "Import Images"
   ]
  },
  {
   "cell_type": "code",
   "execution_count": 64,
   "metadata": {},
   "outputs": [
    {
     "name": "stderr",
     "output_type": "stream",
     "text": [
      "Found cached dataset imagefolder (/Users/christophernorman/.cache/huggingface/datasets/imagefolder/default-073897f9ede2efb8/0.0.0/37fbb85cc714a338bea574ac6c7d0b5be5aff46c1862c1989b20e0771199e93f)\n"
     ]
    },
    {
     "data": {
      "application/vnd.jupyter.widget-view+json": {
       "model_id": "9721d305d98d46e5b98dad1c4c157f7c",
       "version_major": 2,
       "version_minor": 0
      },
      "text/plain": [
       "  0%|          | 0/1 [00:00<?, ?it/s]"
      ]
     },
     "metadata": {},
     "output_type": "display_data"
    }
   ],
   "source": [
    "image_dataset = load_dataset(\"imagefolder\", data_dir=\"data/\")\n",
    "\n",
    "# Remove train/test segmentation\n",
    "image_dataset = image_dataset['train']"
   ]
  },
  {
   "attachments": {},
   "cell_type": "markdown",
   "metadata": {},
   "source": [
    "Load the image processor and model"
   ]
  },
  {
   "cell_type": "code",
   "execution_count": 65,
   "metadata": {},
   "outputs": [
    {
     "name": "stderr",
     "output_type": "stream",
     "text": [
      "Some weights of the model checkpoint at facebook/vit-mae-base were not used when initializing ViTMAEModel: ['decoder.decoder_layers.3.layernorm_before.weight', 'decoder.decoder_layers.1.intermediate.dense.weight', 'decoder.decoder_layers.3.attention.attention.key.weight', 'decoder.decoder_layers.3.intermediate.dense.weight', 'decoder.decoder_layers.0.output.dense.weight', 'decoder.decoder_layers.5.layernorm_before.weight', 'decoder.decoder_layers.0.attention.attention.key.weight', 'decoder.decoder_layers.5.output.dense.bias', 'decoder.decoder_layers.1.layernorm_after.bias', 'decoder.decoder_layers.3.attention.attention.value.weight', 'decoder.decoder_norm.weight', 'decoder.decoder_layers.1.attention.attention.key.weight', 'decoder.decoder_layers.3.attention.attention.value.bias', 'decoder.decoder_layers.5.attention.attention.value.weight', 'decoder.decoder_layers.4.layernorm_before.weight', 'decoder.decoder_layers.1.intermediate.dense.bias', 'decoder.decoder_layers.7.layernorm_after.weight', 'decoder.decoder_layers.5.attention.attention.query.bias', 'decoder.decoder_layers.2.attention.attention.key.weight', 'decoder.decoder_layers.7.attention.attention.key.weight', 'decoder.decoder_layers.2.attention.attention.value.weight', 'decoder.decoder_layers.1.attention.attention.query.weight', 'decoder.decoder_layers.4.intermediate.dense.weight', 'decoder.decoder_layers.6.attention.output.dense.weight', 'decoder.decoder_layers.7.attention.attention.value.weight', 'decoder.decoder_layers.6.layernorm_after.bias', 'decoder.decoder_layers.4.attention.attention.key.weight', 'decoder.decoder_layers.2.attention.output.dense.bias', 'decoder.decoder_layers.2.attention.attention.value.bias', 'decoder.decoder_layers.7.output.dense.bias', 'decoder.decoder_layers.6.layernorm_before.bias', 'decoder.decoder_layers.5.attention.attention.value.bias', 'decoder.decoder_layers.4.output.dense.bias', 'decoder.decoder_layers.6.intermediate.dense.weight', 'decoder.decoder_layers.4.attention.attention.key.bias', 'decoder.decoder_layers.1.attention.attention.value.weight', 'decoder.decoder_layers.7.output.dense.weight', 'decoder.decoder_layers.4.attention.attention.query.bias', 'decoder.decoder_layers.7.intermediate.dense.weight', 'decoder.decoder_layers.7.attention.output.dense.weight', 'decoder.decoder_layers.6.output.dense.bias', 'decoder.decoder_layers.0.output.dense.bias', 'decoder.decoder_norm.bias', 'decoder.decoder_layers.2.layernorm_before.bias', 'decoder.decoder_pos_embed', 'decoder.decoder_layers.2.layernorm_after.bias', 'decoder.decoder_layers.6.layernorm_before.weight', 'decoder.decoder_layers.2.intermediate.dense.bias', 'decoder.decoder_layers.6.output.dense.weight', 'decoder.decoder_layers.2.layernorm_before.weight', 'decoder.decoder_layers.5.attention.output.dense.weight', 'decoder.decoder_layers.5.intermediate.dense.bias', 'decoder.decoder_layers.2.attention.attention.key.bias', 'decoder.decoder_layers.0.attention.attention.query.weight', 'decoder.decoder_embed.weight', 'decoder.decoder_layers.3.attention.attention.query.bias', 'decoder.decoder_layers.1.layernorm_after.weight', 'decoder.decoder_layers.1.layernorm_before.bias', 'decoder.decoder_layers.7.attention.attention.query.weight', 'decoder.decoder_layers.4.intermediate.dense.bias', 'decoder.decoder_layers.3.intermediate.dense.bias', 'decoder.decoder_layers.7.attention.attention.value.bias', 'decoder.decoder_layers.0.layernorm_before.bias', 'decoder.decoder_layers.2.intermediate.dense.weight', 'decoder.decoder_layers.1.attention.attention.query.bias', 'decoder.decoder_layers.5.layernorm_after.weight', 'decoder.decoder_layers.6.attention.attention.key.bias', 'decoder.decoder_layers.1.attention.output.dense.weight', 'decoder.decoder_layers.6.attention.attention.query.bias', 'decoder.decoder_layers.7.attention.output.dense.bias', 'decoder.decoder_embed.bias', 'decoder.decoder_layers.2.layernorm_after.weight', 'decoder.decoder_layers.7.layernorm_before.weight', 'decoder.decoder_layers.4.attention.attention.value.bias', 'decoder.decoder_layers.4.output.dense.weight', 'decoder.decoder_layers.0.attention.output.dense.bias', 'decoder.decoder_layers.7.attention.attention.key.bias', 'decoder.decoder_layers.6.attention.attention.key.weight', 'decoder.decoder_layers.0.intermediate.dense.weight', 'decoder.decoder_layers.0.attention.attention.key.bias', 'decoder.decoder_layers.1.attention.attention.key.bias', 'decoder.decoder_layers.5.attention.attention.query.weight', 'decoder.decoder_layers.0.attention.attention.value.bias', 'decoder.mask_token', 'decoder.decoder_layers.1.output.dense.bias', 'decoder.decoder_layers.5.layernorm_after.bias', 'decoder.decoder_layers.5.intermediate.dense.weight', 'decoder.decoder_layers.3.attention.output.dense.bias', 'decoder.decoder_layers.4.attention.output.dense.weight', 'decoder.decoder_layers.0.layernorm_after.bias', 'decoder.decoder_layers.1.attention.output.dense.bias', 'decoder.decoder_layers.3.layernorm_after.weight', 'decoder.decoder_layers.4.attention.output.dense.bias', 'decoder.decoder_layers.1.attention.attention.value.bias', 'decoder.decoder_layers.3.attention.attention.query.weight', 'decoder.decoder_layers.0.attention.output.dense.weight', 'decoder.decoder_layers.4.layernorm_after.bias', 'decoder.decoder_layers.4.attention.attention.query.weight', 'decoder.decoder_layers.3.attention.output.dense.weight', 'decoder.decoder_layers.3.layernorm_before.bias', 'decoder.decoder_layers.0.attention.attention.value.weight', 'decoder.decoder_pred.weight', 'decoder.decoder_layers.5.attention.output.dense.bias', 'decoder.decoder_layers.2.output.dense.weight', 'decoder.decoder_layers.6.attention.output.dense.bias', 'decoder.decoder_layers.3.layernorm_after.bias', 'decoder.decoder_pred.bias', 'decoder.decoder_layers.5.attention.attention.key.weight', 'decoder.decoder_layers.2.attention.attention.query.bias', 'decoder.decoder_layers.7.layernorm_after.bias', 'decoder.decoder_layers.2.attention.output.dense.weight', 'decoder.decoder_layers.5.layernorm_before.bias', 'decoder.decoder_layers.0.attention.attention.query.bias', 'decoder.decoder_layers.4.layernorm_before.bias', 'decoder.decoder_layers.6.attention.attention.value.bias', 'decoder.decoder_layers.2.attention.attention.query.weight', 'decoder.decoder_layers.1.output.dense.weight', 'decoder.decoder_layers.6.intermediate.dense.bias', 'decoder.decoder_layers.4.layernorm_after.weight', 'decoder.decoder_layers.3.attention.attention.key.bias', 'decoder.decoder_layers.3.output.dense.weight', 'decoder.decoder_layers.7.layernorm_before.bias', 'decoder.decoder_layers.7.attention.attention.query.bias', 'decoder.decoder_layers.0.intermediate.dense.bias', 'decoder.decoder_layers.6.attention.attention.query.weight', 'decoder.decoder_layers.1.layernorm_before.weight', 'decoder.decoder_layers.7.intermediate.dense.bias', 'decoder.decoder_layers.5.output.dense.weight', 'decoder.decoder_layers.0.layernorm_after.weight', 'decoder.decoder_layers.6.attention.attention.value.weight', 'decoder.decoder_layers.2.output.dense.bias', 'decoder.decoder_layers.5.attention.attention.key.bias', 'decoder.decoder_layers.6.layernorm_after.weight', 'decoder.decoder_layers.0.layernorm_before.weight', 'decoder.decoder_layers.3.output.dense.bias', 'decoder.decoder_layers.4.attention.attention.value.weight']\n",
      "- This IS expected if you are initializing ViTMAEModel from the checkpoint of a model trained on another task or with another architecture (e.g. initializing a BertForSequenceClassification model from a BertForPreTraining model).\n",
      "- This IS NOT expected if you are initializing ViTMAEModel from the checkpoint of a model that you expect to be exactly identical (initializing a BertForSequenceClassification model from a BertForSequenceClassification model).\n"
     ]
    }
   ],
   "source": [
    "image_processor = AutoImageProcessor.from_pretrained(\"facebook/vit-mae-base\")\n",
    "model = ViTMAEModel.from_pretrained(\"facebook/vit-mae-base\")"
   ]
  },
  {
   "attachments": {},
   "cell_type": "markdown",
   "metadata": {},
   "source": [
    "Preprocess images"
   ]
  },
  {
   "cell_type": "code",
   "execution_count": 66,
   "metadata": {},
   "outputs": [],
   "source": [
    "def preprocess_image(img: Image, image_processor: AutoImageProcessor) -> torch.tensor:\n",
    "    \"\"\"Preprocess image using a HuggingFace auto image processor.\n",
    "\n",
    "    Args:\n",
    "        img (Image): Pillow image\n",
    "        image_processor (AutoImageProcessor): HuggingFace image processor\n",
    "\n",
    "    Returns:\n",
    "        torch.tensor: Preprocessed image as a Torch tensor\n",
    "    \"\"\"\n",
    "    # Convert image to RGB if it is not already.\n",
    "    img = img.convert(\"RGB\")\n",
    "    \n",
    "    return image_processor(images = img, return_tensors = \"pt\")"
   ]
  },
  {
   "cell_type": "code",
   "execution_count": 67,
   "metadata": {},
   "outputs": [
    {
     "name": "stderr",
     "output_type": "stream",
     "text": [
      "Loading cached processed dataset at /Users/christophernorman/.cache/huggingface/datasets/imagefolder/default-073897f9ede2efb8/0.0.0/37fbb85cc714a338bea574ac6c7d0b5be5aff46c1862c1989b20e0771199e93f/cache-7c14fc7d2ae45fdd.arrow\n"
     ]
    }
   ],
   "source": [
    "# Process images using HuggingFace processor\n",
    "image_dataset = image_dataset.map(lambda x: {\"preprocessed_image\": preprocess_image(x['image'], image_processor=image_processor)})\n",
    "\n",
    "# Set dataset format to PyTorch\n",
    "image_dataset = image_dataset.with_format(\"pt\")"
   ]
  },
  {
   "attachments": {},
   "cell_type": "markdown",
   "metadata": {},
   "source": [
    "Pass the images through the model and extract embeddings"
   ]
  },
  {
   "cell_type": "code",
   "execution_count": 68,
   "metadata": {},
   "outputs": [],
   "source": [
    "def create_embedding(model, preprocessed_image: torch.Tensor) -> torch.Tensor:\n",
    "    \"\"\"Passes a preprocessed image through a pretrained embedding model.\n",
    "\n",
    "    Args:\n",
    "        model (PreTrainedModel): Pretrained HuggingFace PyTorch embedding model.\n",
    "        preprocessed_image (torch.Tensor): Preprocessed image as a PyTorch Tensor\n",
    "\n",
    "    Returns:\n",
    "        torch.Tensor: Embedding vector shape (1, 768) as a Tensor\n",
    "    \"\"\"\n",
    "    embedding = model(**preprocessed_image).last_hidden_state[:, 0]\n",
    "    return np.squeeze(embedding)"
   ]
  },
  {
   "cell_type": "code",
   "execution_count": 69,
   "metadata": {},
   "outputs": [
    {
     "data": {
      "application/vnd.jupyter.widget-view+json": {
       "model_id": "cb57d780dae34b72bc9d7a37ba52605a",
       "version_major": 2,
       "version_minor": 0
      },
      "text/plain": [
       "Map:   0%|          | 0/9 [00:00<?, ? examples/s]"
      ]
     },
     "metadata": {},
     "output_type": "display_data"
    },
    {
     "data": {
      "text/plain": [
       "Dataset({\n",
       "    features: ['image', 'name', 'preprocessed_image', 'embedding'],\n",
       "    num_rows: 9\n",
       "})"
      ]
     },
     "execution_count": 69,
     "metadata": {},
     "output_type": "execute_result"
    }
   ],
   "source": [
    "image_dataset = image_dataset.map(lambda img: {\"embedding\": create_embedding(model, img[\"preprocessed_image\"])})\n",
    "image_dataset"
   ]
  },
  {
   "cell_type": "code",
   "execution_count": 70,
   "metadata": {},
   "outputs": [
    {
     "data": {
      "text/plain": [
       "tensor([[-1.4462e-01,  1.1187e-01,  2.2245e-01,  ..., -1.2107e-01,\n",
       "         -1.3522e-01,  1.4581e-01],\n",
       "        [-2.2478e-01,  2.7582e-02,  1.3079e-01,  ..., -7.0743e-02,\n",
       "         -2.3576e-01,  1.9288e-01],\n",
       "        [-1.3256e-01,  1.1413e-01,  9.1772e-02,  ..., -1.6287e-01,\n",
       "         -2.9986e-01,  3.3026e-01],\n",
       "        ...,\n",
       "        [-2.0087e-01,  9.5759e-02,  1.0681e-01,  ..., -7.0807e-02,\n",
       "         -1.5886e-01,  1.4101e-01],\n",
       "        [-6.5135e-02, -1.2994e-05,  9.4249e-02,  ..., -1.3041e-01,\n",
       "         -2.4108e-01,  1.0788e-01],\n",
       "        [-1.5037e-01, -1.5001e-02,  5.8316e-02,  ..., -2.4850e-01,\n",
       "         -1.5772e-01,  7.6791e-02]])"
      ]
     },
     "execution_count": 70,
     "metadata": {},
     "output_type": "execute_result"
    }
   ],
   "source": [
    "image_dataset['embedding']"
   ]
  },
  {
   "attachments": {},
   "cell_type": "markdown",
   "metadata": {},
   "source": [
    "## Visualisation"
   ]
  },
  {
   "attachments": {},
   "cell_type": "markdown",
   "metadata": {},
   "source": [
    "Export data to TSV file and metadata for visualisation"
   ]
  },
  {
   "cell_type": "code",
   "execution_count": 71,
   "metadata": {},
   "outputs": [],
   "source": [
    "def save_embeddings_to_tsv(image_dataset: Dataset):\n",
    "    \"\"\"Saves embeddings as tab seperated values to be used at https://projector.tensorflow.org/ .\n",
    "\n",
    "    Args:\n",
    "        image_dataset (datasets.Dataset): Dataset containing an embedding and a name column.\n",
    "    \"\"\"\n",
    "    # Save embedding values seperately\n",
    "    with open(\"embeddings.tsv\", \"w\") as file:\n",
    "        for row in image_dataset:\n",
    "            for i in row['embedding'].numpy():\n",
    "                file.write(f\"{i}\\t\")\n",
    "            file.write(\"\\n\")\n",
    "\n",
    "    # Save metadata\n",
    "    with open(\"metadata.tsv\", \"w\") as file:\n",
    "        for row in image_dataset:\n",
    "            file.write(f\"{row['name']}\\n\")"
   ]
  },
  {
   "cell_type": "code",
   "execution_count": 72,
   "metadata": {},
   "outputs": [],
   "source": [
    "save_embeddings_to_tsv(image_dataset)"
   ]
  },
  {
   "attachments": {},
   "cell_type": "markdown",
   "metadata": {},
   "source": [
    "Upload the saved csv files into the Embedding Projector here: https://projector.tensorflow.org/"
   ]
  },
  {
   "cell_type": "markdown",
   "metadata": {},
   "source": []
  }
 ],
 "metadata": {
  "kernelspec": {
   "display_name": "known-origin-nft-analytics-demo-suGx7Of8-py3.10",
   "language": "python",
   "name": "python3"
  },
  "language_info": {
   "codemirror_mode": {
    "name": "ipython",
    "version": 3
   },
   "file_extension": ".py",
   "mimetype": "text/x-python",
   "name": "python",
   "nbconvert_exporter": "python",
   "pygments_lexer": "ipython3",
   "version": "3.8.15"
  },
  "orig_nbformat": 4,
  "vscode": {
   "interpreter": {
    "hash": "661c53f6326e21a512fad75b12dd87494d29b1194ad1d3ff51c5b1be1a2ce983"
   }
  }
 },
 "nbformat": 4,
 "nbformat_minor": 2
}
