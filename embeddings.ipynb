{
 "cells": [
  {
   "attachments": {},
   "cell_type": "markdown",
   "metadata": {},
   "source": [
    "# Image Embeddings with HuggingFace"
   ]
  },
  {
   "attachments": {},
   "cell_type": "markdown",
   "metadata": {},
   "source": [
    "Python Imports"
   ]
  },
  {
   "cell_type": "code",
   "execution_count": 1,
   "metadata": {},
   "outputs": [],
   "source": [
    "import torch\n",
    "from transformers import AutoImageProcessor, ViTMAEModel\n",
    "from PIL import Image\n",
    "from torchvision.datasets.folder import ImageFolder\n",
    "from datasets import load_dataset, Dataset\n",
    "import requests\n",
    "import glob\n",
    "import os\n",
    "import numpy as np"
   ]
  },
  {
   "attachments": {},
   "cell_type": "markdown",
   "metadata": {},
   "source": [
    "Import Images"
   ]
  },
  {
   "cell_type": "code",
   "execution_count": 2,
   "metadata": {},
   "outputs": [
    {
     "name": "stderr",
     "output_type": "stream",
     "text": [
      "Found cached dataset imagefolder (/Users/christophernorman/.cache/huggingface/datasets/imagefolder/default-02cc048519d4f028/0.0.0/37fbb85cc714a338bea574ac6c7d0b5be5aff46c1862c1989b20e0771199e93f)\n"
     ]
    },
    {
     "data": {
      "application/vnd.jupyter.widget-view+json": {
       "model_id": "045917bc98ab4b738ce25f4893b770c3",
       "version_major": 2,
       "version_minor": 0
      },
      "text/plain": [
       "  0%|          | 0/1 [00:00<?, ?it/s]"
      ]
     },
     "metadata": {},
     "output_type": "display_data"
    }
   ],
   "source": [
    "image_dataset = load_dataset(\"imagefolder\", data_dir=\"data/\")\n",
    "\n",
    "# Remove train/test segmentation\n",
    "image_dataset = image_dataset['train']"
   ]
  },
  {
   "attachments": {},
   "cell_type": "markdown",
   "metadata": {},
   "source": [
    "Load the image processor and model"
   ]
  },
  {
   "cell_type": "code",
   "execution_count": 3,
   "metadata": {},
   "outputs": [
    {
     "name": "stderr",
     "output_type": "stream",
     "text": [
      "Some weights of the model checkpoint at facebook/vit-mae-base were not used when initializing ViTMAEModel: ['decoder.decoder_layers.1.attention.attention.query.weight', 'decoder.decoder_layers.0.attention.attention.query.weight', 'decoder.decoder_layers.1.attention.attention.query.bias', 'decoder.decoder_pos_embed', 'decoder.decoder_layers.1.attention.attention.key.bias', 'decoder.decoder_layers.4.attention.attention.key.weight', 'decoder.decoder_layers.3.intermediate.dense.bias', 'decoder.decoder_layers.5.layernorm_after.bias', 'decoder.decoder_layers.1.layernorm_before.bias', 'decoder.decoder_layers.4.attention.attention.query.weight', 'decoder.decoder_layers.0.attention.attention.key.weight', 'decoder.decoder_layers.3.output.dense.bias', 'decoder.decoder_layers.3.output.dense.weight', 'decoder.decoder_layers.0.layernorm_before.bias', 'decoder.decoder_layers.4.intermediate.dense.bias', 'decoder.decoder_layers.0.attention.output.dense.weight', 'decoder.decoder_layers.0.layernorm_before.weight', 'decoder.decoder_layers.5.layernorm_before.bias', 'decoder.decoder_layers.6.attention.output.dense.bias', 'decoder.decoder_layers.1.attention.output.dense.weight', 'decoder.decoder_pred.weight', 'decoder.decoder_layers.2.attention.attention.value.weight', 'decoder.decoder_layers.2.intermediate.dense.weight', 'decoder.decoder_layers.2.attention.output.dense.weight', 'decoder.decoder_layers.4.attention.attention.value.bias', 'decoder.decoder_layers.2.attention.output.dense.bias', 'decoder.decoder_layers.0.attention.attention.key.bias', 'decoder.decoder_layers.2.attention.attention.query.weight', 'decoder.decoder_layers.5.attention.output.dense.bias', 'decoder.decoder_layers.6.attention.attention.key.bias', 'decoder.decoder_layers.3.layernorm_before.bias', 'decoder.decoder_layers.6.layernorm_before.bias', 'decoder.decoder_layers.2.output.dense.weight', 'decoder.decoder_layers.7.layernorm_before.bias', 'decoder.decoder_layers.1.output.dense.bias', 'decoder.decoder_layers.5.layernorm_after.weight', 'decoder.decoder_layers.4.layernorm_before.weight', 'decoder.decoder_layers.5.output.dense.weight', 'decoder.mask_token', 'decoder.decoder_layers.6.layernorm_after.bias', 'decoder.decoder_layers.2.intermediate.dense.bias', 'decoder.decoder_layers.4.attention.output.dense.weight', 'decoder.decoder_layers.3.attention.attention.value.weight', 'decoder.decoder_layers.7.attention.attention.query.bias', 'decoder.decoder_layers.6.output.dense.bias', 'decoder.decoder_layers.3.attention.attention.key.bias', 'decoder.decoder_layers.0.output.dense.weight', 'decoder.decoder_layers.4.attention.attention.value.weight', 'decoder.decoder_layers.4.intermediate.dense.weight', 'decoder.decoder_layers.3.attention.attention.query.bias', 'decoder.decoder_layers.0.output.dense.bias', 'decoder.decoder_layers.4.output.dense.weight', 'decoder.decoder_layers.7.intermediate.dense.bias', 'decoder.decoder_layers.5.attention.attention.key.weight', 'decoder.decoder_layers.7.layernorm_before.weight', 'decoder.decoder_layers.6.intermediate.dense.weight', 'decoder.decoder_layers.0.attention.attention.query.bias', 'decoder.decoder_layers.3.attention.attention.key.weight', 'decoder.decoder_layers.1.attention.attention.value.bias', 'decoder.decoder_layers.6.attention.output.dense.weight', 'decoder.decoder_layers.3.layernorm_before.weight', 'decoder.decoder_layers.5.attention.attention.key.bias', 'decoder.decoder_layers.7.attention.output.dense.weight', 'decoder.decoder_layers.0.intermediate.dense.weight', 'decoder.decoder_layers.5.attention.attention.value.bias', 'decoder.decoder_layers.0.intermediate.dense.bias', 'decoder.decoder_layers.4.attention.attention.key.bias', 'decoder.decoder_layers.7.output.dense.weight', 'decoder.decoder_layers.7.layernorm_after.weight', 'decoder.decoder_layers.5.layernorm_before.weight', 'decoder.decoder_layers.4.layernorm_after.weight', 'decoder.decoder_layers.6.intermediate.dense.bias', 'decoder.decoder_layers.2.output.dense.bias', 'decoder.decoder_layers.2.attention.attention.value.bias', 'decoder.decoder_layers.2.attention.attention.query.bias', 'decoder.decoder_layers.3.layernorm_after.weight', 'decoder.decoder_layers.4.layernorm_after.bias', 'decoder.decoder_layers.6.attention.attention.query.bias', 'decoder.decoder_layers.3.attention.output.dense.weight', 'decoder.decoder_layers.7.attention.attention.value.bias', 'decoder.decoder_layers.6.attention.attention.value.bias', 'decoder.decoder_layers.2.attention.attention.key.bias', 'decoder.decoder_pred.bias', 'decoder.decoder_layers.7.output.dense.bias', 'decoder.decoder_layers.6.attention.attention.key.weight', 'decoder.decoder_layers.7.intermediate.dense.weight', 'decoder.decoder_layers.5.intermediate.dense.bias', 'decoder.decoder_layers.1.layernorm_before.weight', 'decoder.decoder_layers.5.attention.attention.value.weight', 'decoder.decoder_layers.6.layernorm_after.weight', 'decoder.decoder_layers.1.attention.output.dense.bias', 'decoder.decoder_layers.0.attention.output.dense.bias', 'decoder.decoder_layers.4.output.dense.bias', 'decoder.decoder_layers.2.layernorm_after.weight', 'decoder.decoder_layers.7.attention.attention.query.weight', 'decoder.decoder_layers.5.intermediate.dense.weight', 'decoder.decoder_layers.7.attention.attention.key.bias', 'decoder.decoder_layers.1.attention.attention.key.weight', 'decoder.decoder_layers.4.attention.output.dense.bias', 'decoder.decoder_layers.3.intermediate.dense.weight', 'decoder.decoder_layers.3.layernorm_after.bias', 'decoder.decoder_layers.1.output.dense.weight', 'decoder.decoder_layers.2.layernorm_after.bias', 'decoder.decoder_layers.1.layernorm_after.bias', 'decoder.decoder_norm.weight', 'decoder.decoder_layers.0.attention.attention.value.bias', 'decoder.decoder_layers.0.layernorm_after.weight', 'decoder.decoder_layers.5.attention.attention.query.bias', 'decoder.decoder_layers.5.output.dense.bias', 'decoder.decoder_layers.7.attention.attention.value.weight', 'decoder.decoder_layers.0.layernorm_after.bias', 'decoder.decoder_layers.5.attention.attention.query.weight', 'decoder.decoder_layers.1.intermediate.dense.weight', 'decoder.decoder_layers.3.attention.attention.query.weight', 'decoder.decoder_layers.7.layernorm_after.bias', 'decoder.decoder_layers.2.attention.attention.key.weight', 'decoder.decoder_embed.bias', 'decoder.decoder_layers.1.layernorm_after.weight', 'decoder.decoder_embed.weight', 'decoder.decoder_layers.2.layernorm_before.bias', 'decoder.decoder_layers.6.attention.attention.value.weight', 'decoder.decoder_layers.6.attention.attention.query.weight', 'decoder.decoder_layers.7.attention.attention.key.weight', 'decoder.decoder_layers.7.attention.output.dense.bias', 'decoder.decoder_layers.4.layernorm_before.bias', 'decoder.decoder_norm.bias', 'decoder.decoder_layers.5.attention.output.dense.weight', 'decoder.decoder_layers.1.intermediate.dense.bias', 'decoder.decoder_layers.1.attention.attention.value.weight', 'decoder.decoder_layers.6.layernorm_before.weight', 'decoder.decoder_layers.3.attention.attention.value.bias', 'decoder.decoder_layers.3.attention.output.dense.bias', 'decoder.decoder_layers.2.layernorm_before.weight', 'decoder.decoder_layers.6.output.dense.weight', 'decoder.decoder_layers.4.attention.attention.query.bias', 'decoder.decoder_layers.0.attention.attention.value.weight']\n",
      "- This IS expected if you are initializing ViTMAEModel from the checkpoint of a model trained on another task or with another architecture (e.g. initializing a BertForSequenceClassification model from a BertForPreTraining model).\n",
      "- This IS NOT expected if you are initializing ViTMAEModel from the checkpoint of a model that you expect to be exactly identical (initializing a BertForSequenceClassification model from a BertForSequenceClassification model).\n"
     ]
    }
   ],
   "source": [
    "image_processor = AutoImageProcessor.from_pretrained(\"facebook/vit-mae-base\")\n",
    "model = ViTMAEModel.from_pretrained(\"facebook/vit-mae-base\")"
   ]
  },
  {
   "attachments": {},
   "cell_type": "markdown",
   "metadata": {},
   "source": [
    "Preprocess images"
   ]
  },
  {
   "cell_type": "code",
   "execution_count": 4,
   "metadata": {},
   "outputs": [
    {
     "name": "stderr",
     "output_type": "stream",
     "text": [
      "Loading cached processed dataset at /Users/christophernorman/.cache/huggingface/datasets/imagefolder/default-02cc048519d4f028/0.0.0/37fbb85cc714a338bea574ac6c7d0b5be5aff46c1862c1989b20e0771199e93f/cache-ee8ae1de39ca03ec.arrow\n",
      "Loading cached processed dataset at /Users/christophernorman/.cache/huggingface/datasets/imagefolder/default-02cc048519d4f028/0.0.0/37fbb85cc714a338bea574ac6c7d0b5be5aff46c1862c1989b20e0771199e93f/cache-399c3bc651318e73.arrow\n"
     ]
    }
   ],
   "source": [
    "# Convert images to RGB if they are not already\n",
    "image_dataset = image_dataset.map(lambda img: {\"image\": img['image'].convert(\"RGB\")})\n",
    "\n",
    "# Process images using HuggingFace processor\n",
    "image_dataset = image_dataset.map(lambda img: {\"preprocessed_image\": image_processor(images=img['image'], return_tensors=\"pt\")})\n",
    "\n",
    "# Set dataset format to PyTorch\n",
    "image_dataset = image_dataset.with_format(\"pt\")"
   ]
  },
  {
   "attachments": {},
   "cell_type": "markdown",
   "metadata": {},
   "source": [
    "Pass the images through the model and extract embeddings"
   ]
  },
  {
   "cell_type": "code",
   "execution_count": 5,
   "metadata": {},
   "outputs": [
    {
     "name": "stderr",
     "output_type": "stream",
     "text": [
      "Loading cached processed dataset at /Users/christophernorman/.cache/huggingface/datasets/imagefolder/default-02cc048519d4f028/0.0.0/37fbb85cc714a338bea574ac6c7d0b5be5aff46c1862c1989b20e0771199e93f/cache-1f30272df30f3065.arrow\n"
     ]
    },
    {
     "data": {
      "text/plain": [
       "Dataset({\n",
       "    features: ['image', 'name', 'preprocessed_image', 'embedding'],\n",
       "    num_rows: 9\n",
       "})"
      ]
     },
     "execution_count": 5,
     "metadata": {},
     "output_type": "execute_result"
    }
   ],
   "source": [
    "image_dataset = image_dataset.map(lambda img: {\"embedding\": np.squeeze(model(**img[\"preprocessed_image\"]).last_hidden_state[:, 0])})\n",
    "image_dataset"
   ]
  },
  {
   "cell_type": "code",
   "execution_count": 6,
   "metadata": {},
   "outputs": [
    {
     "data": {
      "text/plain": [
       "tensor([[-0.1671,  0.0832,  0.2001,  ..., -0.0491, -0.0986,  0.1635],\n",
       "        [-0.2413, -0.0054,  0.1378,  ..., -0.1053, -0.2717,  0.2162],\n",
       "        [-0.1123,  0.1328,  0.1023,  ..., -0.1467, -0.3044,  0.3309],\n",
       "        ...,\n",
       "        [-0.1927,  0.1057,  0.1150,  ..., -0.0388, -0.1760,  0.1588],\n",
       "        [-0.1013, -0.0240,  0.1162,  ..., -0.0916, -0.2549,  0.0660],\n",
       "        [-0.1493, -0.0404,  0.0695,  ..., -0.2460, -0.1252,  0.0750]])"
      ]
     },
     "execution_count": 6,
     "metadata": {},
     "output_type": "execute_result"
    }
   ],
   "source": [
    "image_dataset['embedding']"
   ]
  },
  {
   "attachments": {},
   "cell_type": "markdown",
   "metadata": {},
   "source": [
    "## Visualisation"
   ]
  },
  {
   "attachments": {},
   "cell_type": "markdown",
   "metadata": {},
   "source": [
    "Export data to TSV file and metadata for visualisation"
   ]
  },
  {
   "cell_type": "code",
   "execution_count": 7,
   "metadata": {},
   "outputs": [],
   "source": [
    "def save_embeddings_to_tsv(image_dataset: Dataset):\n",
    "    \"\"\"Saves embeddings as tab seperated values to be used at https://projector.tensorflow.org/ .\n",
    "\n",
    "    Args:\n",
    "        image_dataset (datasets.Dataset): Dataset containing an embedding and a name column.\n",
    "    \"\"\"\n",
    "    # Save embedding values seperately\n",
    "    with open(\"embeddings.tsv\", \"w\") as file:\n",
    "        for row in image_dataset:\n",
    "            for i in row['embedding'].numpy():\n",
    "                file.write(f\"{i}\\t\")\n",
    "            file.write(\"\\n\")\n",
    "\n",
    "    # Save metadata\n",
    "    with open(\"metadata.tsv\", \"w\") as file:\n",
    "        for row in image_dataset:\n",
    "            file.write(f\"{row['name']}\\n\")"
   ]
  },
  {
   "cell_type": "code",
   "execution_count": 8,
   "metadata": {},
   "outputs": [],
   "source": [
    "save_embeddings_to_tsv(image_dataset)"
   ]
  },
  {
   "attachments": {},
   "cell_type": "markdown",
   "metadata": {},
   "source": [
    "Upload the saved csv files into the Embedding Projector here: https://projector.tensorflow.org/"
   ]
  },
  {
   "cell_type": "markdown",
   "metadata": {},
   "source": []
  }
 ],
 "metadata": {
  "kernelspec": {
   "display_name": "known-origin-nft-analytics-demo-suGx7Of8-py3.10",
   "language": "python",
   "name": "python3"
  },
  "language_info": {
   "codemirror_mode": {
    "name": "ipython",
    "version": 3
   },
   "file_extension": ".py",
   "mimetype": "text/x-python",
   "name": "python",
   "nbconvert_exporter": "python",
   "pygments_lexer": "ipython3",
   "version": "3.8.15"
  },
  "orig_nbformat": 4,
  "vscode": {
   "interpreter": {
    "hash": "661c53f6326e21a512fad75b12dd87494d29b1194ad1d3ff51c5b1be1a2ce983"
   }
  }
 },
 "nbformat": 4,
 "nbformat_minor": 2
}
